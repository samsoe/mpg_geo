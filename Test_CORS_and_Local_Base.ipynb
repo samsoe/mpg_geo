{
  "nbformat": 4,
  "nbformat_minor": 0,
  "metadata": {
    "colab": {
      "provenance": [],
      "include_colab_link": true
    },
    "kernelspec": {
      "name": "python3",
      "display_name": "Python 3"
    },
    "language_info": {
      "name": "python"
    }
  },
  "cells": [
    {
      "cell_type": "markdown",
      "metadata": {
        "id": "view-in-github",
        "colab_type": "text"
      },
      "source": [
        "<a href=\"https://colab.research.google.com/github/samsoe/mpg_geo/blob/wide/Test_CORS_and_Local_Base.ipynb\" target=\"_parent\"><img src=\"https://colab.research.google.com/assets/colab-badge.svg\" alt=\"Open In Colab\"/></a>"
      ]
    },
    {
      "cell_type": "markdown",
      "source": [
        "# Setup"
      ],
      "metadata": {
        "id": "8-6T73Gefcv4"
      }
    },
    {
      "cell_type": "code",
      "source": [
        "import pandas as pd\n",
        "import geopandas as gpd\n",
        "from sklearn.metrics import r2_score\n",
        "import numpy as np"
      ],
      "metadata": {
        "id": "anmhohCQtF9F"
      },
      "execution_count": 1,
      "outputs": []
    },
    {
      "cell_type": "markdown",
      "source": [
        "# Source Data"
      ],
      "metadata": {
        "id": "NA3Z2v7DMkOx"
      }
    },
    {
      "cell_type": "code",
      "source": [
        "# Define data sources (URLs)\n",
        "src = [\"https://storage.googleapis.com/mpg_gps/emlid/testing/240208/green.csv\",\n",
        "       \"https://storage.googleapis.com/mpg_gps/emlid/testing/240209/green.csv\",\n",
        "       \"https://storage.googleapis.com/mpg_gps/emlid/testing/240208/black.csv\",\n",
        "       \"https://storage.googleapis.com/mpg_gps/emlid/testing/240209/black.csv\"]"
      ],
      "metadata": {
        "id": "pJeYdpxSjrdT"
      },
      "execution_count": 2,
      "outputs": []
    },
    {
      "cell_type": "markdown",
      "source": [
        "# Wrangle"
      ],
      "metadata": {
        "id": "YRuKjNZ2eMSL"
      }
    },
    {
      "cell_type": "code",
      "source": [
        "# Load and concatenate datasets\n",
        "df_combined = pd.concat(pd.read_csv(url) for url in src)"
      ],
      "metadata": {
        "id": "NjekOFolqdGF"
      },
      "execution_count": 3,
      "outputs": []
    },
    {
      "cell_type": "code",
      "source": [
        "# Wrangle data, create GeoDataFrame, project, and extract Easting/Northing\n",
        "def wrangle_data(df):\n",
        "    # Split 'Name' into 'rover', 'location', and 'measurement' columns\n",
        "    df[\"rover\"] = df[\"Name\"].str.split(\"_\", expand=True)[0]\n",
        "    df[\"location\"] = (\n",
        "        df[\"Name\"].str.split(\"_\", expand=True)[1].str.split(\"-\", expand=True)[0]\n",
        "    )\n",
        "    df[\"measurement\"] = (\n",
        "        df[\"Name\"].str.split(\"_\", expand=True)[1].str.split(\"-\", expand=True)[1]\n",
        "    )\n",
        "\n",
        "    # Convert 'Averaging end' to datetime and create a 'date' column\n",
        "    df[\"Averaging end\"] = pd.to_datetime(df[\"Averaging end\"])\n",
        "    df[\"date\"] = df[\"Averaging end\"].dt.strftime(\"%Y-%m-%d\")\n",
        "\n",
        "    # Create a GeoDataFrame with a geometry column\n",
        "    geometry = gpd.points_from_xy(df['Longitude'], df['Latitude'])\n",
        "    df = gpd.GeoDataFrame(df, geometry=geometry)\n",
        "\n",
        "    # Set the initial CRS (assuming WGS84)\n",
        "    df.crs = 'EPSG:4326'\n",
        "\n",
        "    # Project to WGS 84 / UTM zone 12N\n",
        "    df = df.to_crs('EPSG:32611')\n",
        "\n",
        "    # Extract Easting and Northing\n",
        "    df['Easting'] = df.geometry.x\n",
        "    df['Northing'] = df.geometry.y\n",
        "\n",
        "    return df\n",
        "\n",
        "df_wrangle = wrangle_data(df_combined)"
      ],
      "metadata": {
        "id": "zSKRLkmagPYO"
      },
      "execution_count": 4,
      "outputs": []
    },
    {
      "cell_type": "code",
      "source": [
        "# prompt: average Easting, Northing and Ellipsoidal height grouped by rover, location and date and then ungroup\n",
        "df_avg = df_wrangle.groupby([\n",
        "    'rover',\n",
        "    'location',\n",
        "    'date'\n",
        "    ])[\n",
        "        ['Easting',\n",
        "         'Northing',\n",
        "         'Ellipsoidal height']\n",
        "        ].mean().reset_index()"
      ],
      "metadata": {
        "id": "vjcERy1ndYVC"
      },
      "execution_count": 5,
      "outputs": []
    },
    {
      "cell_type": "code",
      "source": [
        "# prompt: Using dataframe df_avg: pivot green and black to a wider dataframe with columns like Easting_green, Easting_black, etc\n",
        "\n",
        "df_avg_wide = df_avg.pivot(index=['location', 'date'], columns='rover', values=['Easting', 'Northing', 'Ellipsoidal height']).reset_index()\n",
        "df_avg_wide.columns = [col[0] + '_' + col[1] if not pd.isnull(col[1]) else col[0] for col in df_avg_wide.columns]\n",
        "df_avg_wide = df_avg_wide.rename(columns={'location_': 'location', 'date_': 'date'})"
      ],
      "metadata": {
        "id": "wyD23KLm52oB"
      },
      "execution_count": null,
      "outputs": []
    },
    {
      "cell_type": "markdown",
      "source": [
        "# Rename"
      ],
      "metadata": {
        "id": "1hatorxg5Tug"
      }
    },
    {
      "cell_type": "code",
      "source": [
        "# Separate data, and prepare for modeling\n",
        "select_variables = [\"Easting\", \"Northing\", \"Ellipsoidal height\"]\n",
        "\n",
        "# Separate data, and prepare for modeling\n",
        "black_data = df_avg[df_avg[\"rover\"] == \"black\"].sort_values(by=\"location\")\n",
        "green_data = df_avg[df_avg[\"rover\"] == \"green\"].sort_values(by=\"location\")\n",
        "\n",
        "# Prepare Easting, Northing, Ellipsoidal height data for modeling\n",
        "black_select = black_data[select_variables].reset_index(drop=True)\n",
        "black_select.columns = [\"Easting_black\",\n",
        "                        \"Northing_black\",\n",
        "                        \"Ellipsoidal height_black\"\n",
        "                        ]\n",
        "green_select = green_data[select_variables].reset_index(drop=True)\n",
        "green_select.columns = [\"Easting_green\",\n",
        "                        \"Northing_green\",\n",
        "                        \"Ellipsoidal height_green\"\n",
        "                        ]"
      ],
      "metadata": {
        "id": "dQST0rw6gYgq"
      },
      "execution_count": 6,
      "outputs": []
    },
    {
      "cell_type": "markdown",
      "source": [
        "# Analysis"
      ],
      "metadata": {
        "id": "9U9cMLuxgVd0"
      }
    },
    {
      "cell_type": "markdown",
      "source": [
        "## Generalized Linear Model"
      ],
      "metadata": {
        "id": "PHwZyvQn14U7"
      }
    },
    {
      "cell_type": "code",
      "source": [
        "import statsmodels.api as sm"
      ],
      "metadata": {
        "id": "GaHbglKk2TdY"
      },
      "execution_count": null,
      "outputs": []
    },
    {
      "cell_type": "code",
      "source": [
        "def fit_glm(y, X):\n",
        "  \"\"\"\n",
        "  Fits a generalized linear model using the given independent and dependent variables.\n",
        "\n",
        "  Args:\n",
        "    independent_variable: A Pandas Series or NumPy array containing the independent variable data.\n",
        "    dependent_variable: A Pandas Series or NumPy array containing the dependent variable data.\n",
        "\n",
        "  Returns:\n",
        "    A glm_model containing the fitted GLM model and the results of the fit.\n",
        "  \"\"\"\n",
        "  glm_model = sm.GLM(y, X, family=sm.families.Gaussian())\n",
        "  glm_results = glm_model.fit()\n",
        "\n",
        "  return glm_model, glm_results"
      ],
      "metadata": {
        "id": "HUeFL0Jk2Xz4"
      },
      "execution_count": null,
      "outputs": []
    },
    {
      "cell_type": "code",
      "source": [
        "results = {}\n",
        "\n",
        "results[\"easting\"] = fit_glm(black_select[\"Easting_black\"],\n",
        "                             green_select[\"Easting_green\"])\n",
        "\n",
        "results[\"northing\"] = fit_glm(black_select[\"Northing_black\"],\n",
        "                              green_select[\"Northing_green\"])\n",
        "\n",
        "results[\"height\"] = fit_glm(black_select[\"Ellipsoidal height_black\"],\n",
        "                            green_select[\"Ellipsoidal height_green\"])\n",
        "\n",
        "print(results['easting'][1].summary(), '\\n\\n')\n",
        "print(results['northing'][1].summary(), '\\n\\n')\n",
        "print(results['height'][1].summary(), '\\n\\n')"
      ],
      "metadata": {
        "colab": {
          "base_uri": "https://localhost:8080/"
        },
        "id": "rffXqwAu5wg_",
        "outputId": "d9d1c544-cdfb-48e5-c378-a06de59e077f"
      },
      "execution_count": null,
      "outputs": [
        {
          "output_type": "stream",
          "name": "stdout",
          "text": [
            "                 Generalized Linear Model Regression Results                  \n",
            "==============================================================================\n",
            "Dep. Variable:          Easting_black   No. Observations:                   20\n",
            "Model:                            GLM   Df Residuals:                       19\n",
            "Model Family:                Gaussian   Df Model:                            0\n",
            "Link Function:               Identity   Scale:                      0.00077818\n",
            "Method:                          IRLS   Log-Likelihood:                 43.720\n",
            "Date:                Wed, 14 Feb 2024   Deviance:                     0.014786\n",
            "Time:                        17:36:46   Pearson chi2:                   0.0148\n",
            "No. Iterations:                     3   Pseudo R-squ. (CS):              1.000\n",
            "Covariance Type:            nonrobust                                         \n",
            "=================================================================================\n",
            "                    coef    std err          z      P>|z|      [0.025      0.975]\n",
            "---------------------------------------------------------------------------------\n",
            "Easting_green     1.0000   8.57e-09   1.17e+08      0.000       1.000       1.000\n",
            "================================================================================= \n",
            "\n",
            "\n",
            "                 Generalized Linear Model Regression Results                  \n",
            "==============================================================================\n",
            "Dep. Variable:         Northing_black   No. Observations:                   20\n",
            "Model:                            GLM   Df Residuals:                       19\n",
            "Model Family:                Gaussian   Df Model:                            0\n",
            "Link Function:               Identity   Scale:                      0.00080457\n",
            "Method:                          IRLS   Log-Likelihood:                 43.386\n",
            "Date:                Wed, 14 Feb 2024   Deviance:                     0.015287\n",
            "Time:                        17:36:46   Pearson chi2:                   0.0153\n",
            "No. Iterations:                     3   Pseudo R-squ. (CS):              1.000\n",
            "Covariance Type:            nonrobust                                         \n",
            "==================================================================================\n",
            "                     coef    std err          z      P>|z|      [0.025      0.975]\n",
            "----------------------------------------------------------------------------------\n",
            "Northing_green     1.0000   1.23e-09   8.16e+08      0.000       1.000       1.000\n",
            "================================================================================== \n",
            "\n",
            "\n",
            "                    Generalized Linear Model Regression Results                     \n",
            "====================================================================================\n",
            "Dep. Variable:     Ellipsoidal height_black   No. Observations:                   20\n",
            "Model:                                  GLM   Df Residuals:                       19\n",
            "Model Family:                      Gaussian   Df Model:                            0\n",
            "Link Function:                     Identity   Scale:                      0.00095351\n",
            "Method:                                IRLS   Log-Likelihood:                 41.688\n",
            "Date:                      Wed, 14 Feb 2024   Deviance:                     0.018117\n",
            "Time:                              17:36:46   Pearson chi2:                   0.0181\n",
            "No. Iterations:                           3   Pseudo R-squ. (CS):              1.000\n",
            "Covariance Type:                  nonrobust                                         \n",
            "============================================================================================\n",
            "                               coef    std err          z      P>|z|      [0.025      0.975]\n",
            "--------------------------------------------------------------------------------------------\n",
            "Ellipsoidal height_green     1.0000   6.56e-06   1.52e+05      0.000       1.000       1.000\n",
            "============================================================================================ \n",
            "\n",
            "\n"
          ]
        }
      ]
    },
    {
      "cell_type": "code",
      "source": [
        "# Extract residuals\n",
        "residuals = results['easting'][1].resid_pearson\n",
        "\n",
        "# Calculate RMSE\n",
        "rmse = np.sqrt(np.mean(residuals**2))\n",
        "print(rmse, '\\n')\n",
        "\n",
        "# Extract coefficient for green\n",
        "print(results['easting'][1].params)"
      ],
      "metadata": {
        "colab": {
          "base_uri": "https://localhost:8080/"
        },
        "id": "sUDiTb9U6fO1",
        "outputId": "44983247-7b2c-46b5-f112-e6674141f1ab"
      },
      "execution_count": null,
      "outputs": [
        {
          "output_type": "stream",
          "name": "stdout",
          "text": [
            "0.0271896193914655 \n",
            "\n",
            "Easting_green    1.0\n",
            "dtype: float64\n"
          ]
        }
      ]
    },
    {
      "cell_type": "code",
      "source": [
        "# Extract residuals\n",
        "residuals = results['northing'][1].resid_pearson\n",
        "\n",
        "# Calculate RMSE\n",
        "rmse = np.sqrt(np.mean(residuals**2))\n",
        "print(rmse, '\\n')\n",
        "\n",
        "# Extract coefficient for green\n",
        "print(results['northing'][1].params)"
      ],
      "metadata": {
        "colab": {
          "base_uri": "https://localhost:8080/"
        },
        "id": "dZ4dcXPguMk1",
        "outputId": "ca78ff20-5fb0-4934-9f5b-9f22ce882c0a"
      },
      "execution_count": null,
      "outputs": [
        {
          "output_type": "stream",
          "name": "stdout",
          "text": [
            "0.027646803851383295 \n",
            "\n",
            "Northing_green    1.0\n",
            "dtype: float64\n"
          ]
        }
      ]
    },
    {
      "cell_type": "code",
      "source": [
        "# Extract residuals\n",
        "residuals = results['height'][1].resid_pearson\n",
        "\n",
        "# Calculate RMSE\n",
        "rmse = np.sqrt(np.mean(residuals**2))\n",
        "print(rmse, '\\n')\n",
        "\n",
        "# Extract coefficient for green\n",
        "print(results['height'][1].params)"
      ],
      "metadata": {
        "colab": {
          "base_uri": "https://localhost:8080/"
        },
        "id": "JamtGowzuavn",
        "outputId": "a3ebd97d-db27-4c1a-c1d0-a935911ee405"
      },
      "execution_count": null,
      "outputs": [
        {
          "output_type": "stream",
          "name": "stdout",
          "text": [
            "0.030097011951032666 \n",
            "\n",
            "Ellipsoidal height_green    0.999979\n",
            "dtype: float64\n"
          ]
        }
      ]
    }
  ]
}